{
  "nbformat": 4,
  "nbformat_minor": 0,
  "metadata": {
    "colab": {
      "name": "Assignment 1 -Julien_GAKPE.ipynb",
      "provenance": [],
      "collapsed_sections": [],
      "authorship_tag": "ABX9TyNRuzyNJS/tds6r4AXJ4c9P",
      "include_colab_link": true
    },
    "kernelspec": {
      "name": "python3",
      "display_name": "Python 3"
    }
  },
  "cells": [
    {
      "cell_type": "markdown",
      "metadata": {
        "id": "view-in-github",
        "colab_type": "text"
      },
      "source": [
        "<a href=\"https://colab.research.google.com/github/Gakpe/TBS_investment_management/blob/main/Assignment_1_Julien_GAKPE.ipynb\" target=\"_parent\"><img src=\"https://colab.research.google.com/assets/colab-badge.svg\" alt=\"Open In Colab\"/></a>"
      ]
    },
    {
      "cell_type": "markdown",
      "metadata": {
        "id": "ImAcq5D2sY_k"
      },
      "source": [
        "**art 1: Obtaining financial data [10 pt]**\n"
      ]
    },
    {
      "cell_type": "code",
      "metadata": {
        "id": "r5KOnLPHs1cA"
      },
      "source": [
        "!pip install pandas \n",
        "!pip install numpy \n",
        "!pip install yfinance\n",
        "!pip install quandl\n",
        "!pip install ffn\n",
        "\n",
        "import pandas as pd\n",
        "import numpy as np \n",
        "import yfinance as yf\n",
        "import matplotlib.pyplot as plt\n",
        "%matplotlib inline\n",
        "import ffn\n",
        "\n",
        "url = \"https://raw.githubusercontent.com/Gakpe/TBS_investment_management/main/1_labs_introduction/stock_prices_1.csv\"\n"
      ],
      "execution_count": null,
      "outputs": []
    },
    {
      "cell_type": "markdown",
      "metadata": {
        "id": "7d3PYDkcCQGo"
      },
      "source": [
        "**Part 1: Obtaining financial data [10 pt]**"
      ]
    },
    {
      "cell_type": "markdown",
      "metadata": {
        "id": "2UMfecUDG4mM"
      },
      "source": [
        "\n",
        "**Part 1.1.** Loading historical stock prices (6pt)\n",
        "\n",
        "Using any Python financial data library (e.g. yfinance) download daily adjusted close prices for 5 U.S. stocks of your choice for the last 5 years and store them in a pandas DataFrame object named stock_prices. Only stocks that are current constituents of the S&P 500 should be considered.\n"
      ]
    },
    {
      "cell_type": "code",
      "metadata": {
        "colab": {
          "base_uri": "https://localhost:8080/"
        },
        "id": "e0JSfCe_XOEx",
        "outputId": "a6b62c2f-746c-4ded-8734-d8b275d1012f"
      },
      "source": [
        "msft = yf.Ticker(\"MSFT\")\n",
        "aapl = yf.Ticker(\"AAPL\")\n",
        "googl = yf.Ticker(\"GOOGL\")\n",
        "tsla = yf.Ticker(\"TSLA\")\n",
        "fb = yf.Ticker(\"FB\")\n",
        "TB = yf.Ticker(\"US1M:U.S.\")\n",
        "\n",
        "\n",
        "tickers = \"MSFT AAPL GOOGL TSLA FB\"\n",
        "stock_data = yf.download(tickers, start=\"2016-01-01\", end=\"2020-12-31\")"
      ],
      "execution_count": 193,
      "outputs": [
        {
          "output_type": "stream",
          "text": [
            "[*********************100%***********************]  5 of 5 completed\n"
          ],
          "name": "stdout"
        }
      ]
    },
    {
      "cell_type": "code",
      "metadata": {
        "id": "HLTDTjOIXcgt"
      },
      "source": [
        "data_adjusted = {'Apple': stock_data[\"Adj Close\"].AAPL,\n",
        "                'Microsoft': stock_data[\"Adj Close\"].MSFT,\n",
        "                'Google': stock_data[\"Adj Close\"].GOOGL,\n",
        "                'Tesla': stock_data[\"Adj Close\"].TSLA,\n",
        "                'Facebook': stock_data[\"Adj Close\"].FB}\n",
        "                \n",
        "stock_prices = pd.DataFrame(data = data_adjusted )\n",
        "stock_prices.head()"
      ],
      "execution_count": null,
      "outputs": []
    },
    {
      "cell_type": "markdown",
      "metadata": {
        "id": "hxUIsZX_WcGv"
      },
      "source": [
        "Part 1.2 : Obtaining data on risk-free asset (4pt)\n",
        "\n",
        "Using a financial data library (e.g. yfinance) of your choice, obtain daily data on the U.S. risk-free (1-month Treasury Bill) rate for the last 5 years and store them in a pandas DataFrame object named rf.\n"
      ]
    },
    {
      "cell_type": "code",
      "metadata": {
        "id": "D_Qs3_fwG6kD",
        "colab": {
          "base_uri": "https://localhost:8080/",
          "height": 235
        },
        "outputId": "eba13544-9524-4841-e757-6e974042cfdd"
      },
      "source": [
        "url2 = \"https://raw.githubusercontent.com/Gakpe/TBS_investment_management/main/1_labs_introduction/FF_factors_daily.csv\"\n",
        "rf = pd.read_csv(url2, index_col=['date'])\n",
        "rf.index = pd.to_datetime(rf.index, format ='%Y%m%d')\n",
        "rf.drop(['SMB', 'HML', 'MRK-RF'], axis=1, inplace=True)\n",
        "rf['RF_dec'] = rf['RF']/100\n",
        "rf.head()"
      ],
      "execution_count": 195,
      "outputs": [
        {
          "output_type": "execute_result",
          "data": {
            "text/html": [
              "<div>\n",
              "<style scoped>\n",
              "    .dataframe tbody tr th:only-of-type {\n",
              "        vertical-align: middle;\n",
              "    }\n",
              "\n",
              "    .dataframe tbody tr th {\n",
              "        vertical-align: top;\n",
              "    }\n",
              "\n",
              "    .dataframe thead th {\n",
              "        text-align: right;\n",
              "    }\n",
              "</style>\n",
              "<table border=\"1\" class=\"dataframe\">\n",
              "  <thead>\n",
              "    <tr style=\"text-align: right;\">\n",
              "      <th></th>\n",
              "      <th>RF</th>\n",
              "      <th>RF_dec</th>\n",
              "    </tr>\n",
              "    <tr>\n",
              "      <th>date</th>\n",
              "      <th></th>\n",
              "      <th></th>\n",
              "    </tr>\n",
              "  </thead>\n",
              "  <tbody>\n",
              "    <tr>\n",
              "      <th>2016-01-04</th>\n",
              "      <td>0.0</td>\n",
              "      <td>0.0</td>\n",
              "    </tr>\n",
              "    <tr>\n",
              "      <th>2016-01-05</th>\n",
              "      <td>0.0</td>\n",
              "      <td>0.0</td>\n",
              "    </tr>\n",
              "    <tr>\n",
              "      <th>2016-01-06</th>\n",
              "      <td>0.0</td>\n",
              "      <td>0.0</td>\n",
              "    </tr>\n",
              "    <tr>\n",
              "      <th>2016-01-07</th>\n",
              "      <td>0.0</td>\n",
              "      <td>0.0</td>\n",
              "    </tr>\n",
              "    <tr>\n",
              "      <th>2016-01-08</th>\n",
              "      <td>0.0</td>\n",
              "      <td>0.0</td>\n",
              "    </tr>\n",
              "  </tbody>\n",
              "</table>\n",
              "</div>"
            ],
            "text/plain": [
              "             RF  RF_dec\n",
              "date                   \n",
              "2016-01-04  0.0     0.0\n",
              "2016-01-05  0.0     0.0\n",
              "2016-01-06  0.0     0.0\n",
              "2016-01-07  0.0     0.0\n",
              "2016-01-08  0.0     0.0"
            ]
          },
          "metadata": {
            "tags": []
          },
          "execution_count": 195
        }
      ]
    },
    {
      "cell_type": "markdown",
      "metadata": {
        "id": "-ALGcBxScNqq"
      },
      "source": [
        "# PART 2 : Visualising historical asset prices"
      ]
    },
    {
      "cell_type": "markdown",
      "metadata": {
        "id": "w6d4qDpaeKXm"
      },
      "source": [
        "Part 2.1. Raw stock prices (4pt)\n",
        "\n",
        "Plot the adjusted daily close prices for your stocks on the same diagram using a Python data visualisation library of your choice (default is matplotlib). Use the historical price data stored in the stock_prices dataframe created earlier."
      ]
    },
    {
      "cell_type": "code",
      "metadata": {
        "id": "VBz_QTNlHqle"
      },
      "source": [
        "stock_prices.plot(title='Prices', figsize=(9, 7))"
      ],
      "execution_count": null,
      "outputs": []
    },
    {
      "cell_type": "markdown",
      "metadata": {
        "id": "Jqx-h2eRHh7z"
      },
      "source": [
        "Part 2.1. Rebased stock prices (6pt)\n",
        "\n",
        "To make comparing and plotting different asset price series together easier, we often \"rebase\" all prices to a given initial value - e.g. 100."
      ]
    },
    {
      "cell_type": "code",
      "metadata": {
        "id": "BOitX5fQezOG"
      },
      "source": [
        "stock_prices.rebase().plot(title='Price_rebase', figsize = (9,7))"
      ],
      "execution_count": null,
      "outputs": []
    },
    {
      "cell_type": "markdown",
      "metadata": {
        "id": "EGi-DVJ3eLf7"
      },
      "source": [
        "# Part 3 Absolute return and risk measures [40pt]"
      ]
    },
    {
      "cell_type": "markdown",
      "metadata": {
        "id": "3mL7on0RgUIN"
      },
      "source": [
        "3.1. Stock returns (6pt)\n",
        "In asset management, we are often interested in the returns of a given time series. Therefore, in this part of the assignment, you need to compute daily, weekly, and monthly arithmetic and logarithmic returns for each chosen stock and store them in separate pandas dataframe objects named returns and log_returns, respectively."
      ]
    },
    {
      "cell_type": "markdown",
      "metadata": {
        "id": "9rHzY2kP34J1"
      },
      "source": [
        "Arithmetic return"
      ]
    },
    {
      "cell_type": "code",
      "metadata": {
        "id": "-yy-8DtukryO"
      },
      "source": [
        "stock_prices\n",
        "weekly_prices = stock_prices.resample('W').ffill()\n",
        "month_prices = stock_prices.resample('M').ffill()"
      ],
      "execution_count": 198,
      "outputs": []
    },
    {
      "cell_type": "code",
      "metadata": {
        "id": "yKesbK3VOGNd"
      },
      "source": [
        "daily_return = stock_prices.pct_change().dropna()\n",
        "weekly_return = weekly_prices.pct_change().dropna()\n",
        "monthly_return = month_prices.pct_change().dropna()\n",
        "\n",
        "returns = [(daily_return, 'By_Day'), (weekly_prices, 'By_Week'), (monthly_return, 'by_Month')]\n",
        "for x, y in returns:\n",
        "  print(y)\n",
        "  print(x.head())"
      ],
      "execution_count": null,
      "outputs": []
    },
    {
      "cell_type": "markdown",
      "metadata": {
        "id": "NPtuqMt3RipH"
      },
      "source": [
        "Log return"
      ]
    },
    {
      "cell_type": "code",
      "metadata": {
        "id": "PCDQ85VvRmDJ"
      },
      "source": [
        "daily_log = np.log(stock_prices/stock_prices.shift(1)).dropna()\n",
        "weekly_log = np.log(weekly_prices/weekly_prices.shift(1)).dropna()\n",
        "monthly_log = np.log(month_prices/month_prices.shift(1)).dropna()\n",
        "\n",
        "log_returns = [(daily_log, 'By_Day'), (weekly_log, 'By_Week'), (monthly_log, 'By_Month')]\n",
        "for x, y in log_returns:\n",
        "  print(y)\n",
        "  print(x.head())"
      ],
      "execution_count": null,
      "outputs": []
    },
    {
      "cell_type": "markdown",
      "metadata": {
        "id": "gdXiXXZH5Quy"
      },
      "source": [
        "# 3.2. Distribution of returns (5pt)\n",
        "\n",
        "Check what the return distributions look like by plotting a histogram of daily returns calculated in the previous section. You can use any Python visualisation library of your choice.\n",
        "\n",
        "Plot returns distributions for both, arithmetic and logarithmic returns. Discuss whether there are significant differences between the two. Also, provide a short explanation on when and why we use log returns, rather than normal returns."
      ]
    },
    {
      "cell_type": "markdown",
      "metadata": {
        "id": "5p_z-xqmYICw"
      },
      "source": [
        "Histogram log returns"
      ]
    },
    {
      "cell_type": "code",
      "metadata": {
        "id": "9iXpsNeWw6FC"
      },
      "source": [
        "for x, y in log_returns:\n",
        "  x.plot.hist(subplots = True, title=y, figsize=(10, 8), legend=True, bins=30, alpha=0.5)"
      ],
      "execution_count": null,
      "outputs": []
    },
    {
      "cell_type": "markdown",
      "metadata": {
        "id": "MLd1ueLsYF-c"
      },
      "source": [
        "Histogram Returns :"
      ]
    },
    {
      "cell_type": "code",
      "metadata": {
        "id": "lcdjS1PaYEcK"
      },
      "source": [
        "for x, y in returns:\n",
        "  x.plot.hist(subplots = True, title=y, figsize=(10, 8), legend=True, bins=30, alpha=0.5)\n"
      ],
      "execution_count": null,
      "outputs": []
    },
    {
      "cell_type": "markdown",
      "metadata": {
        "id": "jZG1bmIPYrw0"
      },
      "source": [
        "[Réponse]\n",
        "\n",
        "Difference between returns and log returns : \n",
        "\n",
        "\n",
        "\n",
        "*   The distribution of returns seems to be less normal than the log return distribution. \n",
        "*   Using log return over return allow to assume that the sample of data is normally distributed and harmonized into a log function. Therefore, even if returns are very small and similaire it allows to construct some standard distribution (Bell Curv) and make analyse out of it.\n",
        "\n",
        "The current situation is a great example, given that the standard return seems to be abnormal it would be very difficult to create model out of it. On contrary, the log return seems to be suitable for modeling (Machine Learning etc.)\n",
        "\n",
        "\n"
      ]
    },
    {
      "cell_type": "markdown",
      "metadata": {
        "id": "cJH78voN6ATD"
      },
      "source": [
        "# 3.3. Correlation matrix (5pt)\n",
        "\n",
        "Using daily arithmetic stock returns, compute pairwise correlations between your 5 assets and plot a correlation matrix."
      ]
    },
    {
      "cell_type": "code",
      "metadata": {
        "id": "6TV_OxneY8dT"
      },
      "source": [
        "daily_return.corr()"
      ],
      "execution_count": null,
      "outputs": []
    },
    {
      "cell_type": "markdown",
      "metadata": {
        "id": "C6YiXlSngydX"
      },
      "source": [
        "#3.4. Cumulative returns (8pt)\n",
        "Using the arithmetic daily returns, compute cumulative returns for each stock over the last 1–, 3-, and 5- year periods and display them as values. Once done, annualise the resulting cumulative daily returns for each stock and display them as well."
      ]
    },
    {
      "cell_type": "code",
      "metadata": {
        "id": "k23uyFiRhCYm"
      },
      "source": [
        "data = [('2016-01-01', '5-year'), ('2018-01-01', '3-year'), ('2020-01-01', '1-year')]\n",
        "\n",
        "for date, period in data:\n",
        "  comp_returns = (daily_return[(daily_return.index>=date)]+1).prod()-1\n",
        "  print(period)\n",
        "  print(comp_returns)"
      ],
      "execution_count": null,
      "outputs": []
    },
    {
      "cell_type": "code",
      "metadata": {
        "id": "WSaUgMn6jWYp"
      },
      "source": [
        "data2 = [('2016-01-01', 5, '5-year'), ('2018-01-01', 3, '3-year'), ('2020-01-01', 1, '1-year')]\n",
        "\n",
        "for date, years, period in data2:\n",
        "  comp_returns = (daily_return[(daily_return.index>=date)]+1).prod()-1\n",
        "  annualized_return = comp_returns**(1/years)\n",
        "  print(period)\n",
        "  print(annualized_return)"
      ],
      "execution_count": null,
      "outputs": []
    },
    {
      "cell_type": "markdown",
      "metadata": {
        "id": "UGzxyiKRnwT2"
      },
      "source": [
        "#3.5. Arithmetic average returns (8pt)\n",
        "\n",
        "Compute arithmetic average daily returns for each stock, annualise them, and display the resulting values. "
      ]
    },
    {
      "cell_type": "code",
      "metadata": {
        "id": "msCi5fUMn3sp",
        "colab": {
          "base_uri": "https://localhost:8080/"
        },
        "outputId": "36277ab2-b281-4750-c655-db72271f8a94"
      },
      "source": [
        "(1+daily_return.mean())**252-1"
      ],
      "execution_count": 206,
      "outputs": [
        {
          "output_type": "execute_result",
          "data": {
            "text/plain": [
              "Apple        0.471914\n",
              "Microsoft    0.400767\n",
              "Google       0.222056\n",
              "Tesla        1.046762\n",
              "Facebook     0.284941\n",
              "dtype: float64"
            ]
          },
          "metadata": {
            "tags": []
          },
          "execution_count": 206
        }
      ]
    },
    {
      "cell_type": "markdown",
      "metadata": {
        "id": "BAVh29Vwn9ce"
      },
      "source": [
        "# 3.6. Standard deviation (8pt)\n",
        "Using the stock returns calculated earlier, compute standard deviations of daily returns for each stock over the last 1–, 3-, and 5- year periods and display them.\n",
        "\n",
        "Once done, repeat the calculation of standard deviations but using monthly returns instead. Display the resulting values.\n",
        "\n",
        "Explain what the best way to annualise standard deviations is."
      ]
    },
    {
      "cell_type": "code",
      "metadata": {
        "id": "wCaQ5itGn9DE"
      },
      "source": [
        "for date, period in data:\n",
        "  print(period)\n",
        "  print('daily', daily_return[(daily_return.index>=date)].std(), sep=\"\\n\")\n",
        "  print('monthly', monthly_return[(monthly_return.index>=date)].std(), sep=\"\\n\")"
      ],
      "execution_count": null,
      "outputs": []
    },
    {
      "cell_type": "markdown",
      "metadata": {
        "id": "yYUoNCe9rFbl"
      },
      "source": [
        "[Réponse]\n",
        "\n",
        "The best way to annualized standard deviation would be to use this formula : \n",
        "\n",
        "*Annualized Standard Deviation = Standard Deviation of Daily Returns * Square Root (250)*\n",
        "\n",
        "-> 250 for the number of day traded\n",
        "\n"
      ]
    },
    {
      "cell_type": "markdown",
      "metadata": {
        "id": "Qe4iWuwOsC47"
      },
      "source": [
        "#Part 4: Risk-adjusted performance evaluation [40pt]\n",
        "\n",
        "As part of the course we considered several risk-adjusted performance evaluation measures. In this section of the assignment you are asked to compute one of them - the Sharpe ratio:"
      ]
    },
    {
      "cell_type": "markdown",
      "metadata": {
        "id": "psCHYLUJrkeB"
      },
      "source": [
        "### Part 4.1. Calculating the Sharpe measure [10pt]\n",
        "\n",
        "Using previously calculated monthly stock returns and the corresponding risk-free interest rates, compute Sharpe ratios for your selected stocks for the last 1-, 3-, and 5-years. Annualise the calculated Sharpe measures and report them as values."
      ]
    },
    {
      "cell_type": "markdown",
      "metadata": {
        "id": "Ndg2nOYF21kt"
      },
      "source": [
        "Market excess return"
      ]
    },
    {
      "cell_type": "code",
      "metadata": {
        "id": "zkjPp9g58bDU"
      },
      "source": [
        "URL_One_year_T_bill =  \"https://raw.githubusercontent.com/Gakpe/TBS_investment_management/main/DTB1YR.csv\"\n",
        "URL_Three_Year_T_Bill = \"https://raw.githubusercontent.com/Gakpe/TBS_investment_management/main/DGS3.csv\"\n",
        "URL_Five_year_T_Bill = \"https://raw.githubusercontent.com/Gakpe/TBS_investment_management/main/DGS5.csv\"\n",
        "\n",
        "rf_One = pd.read_csv(URL_One_year_T_bill, index_col=['DATE'])\n",
        "rf_Three = pd.read_csv(URL_Three_Year_T_Bill, index_col=['DATE'])\n",
        "rf_Five = pd.read_csv(URL_Five_year_T_Bill, index_col=['DATE'])\n",
        "\n",
        "rf_One_adjusted = rf_One[(rf_One.index == '2020-01-02')]\n",
        "value = rf_One_adjusted.loc['2020-01-02', 'DTB1YR']\n",
        "value = float(value) - 1\n",
        "returns\n",
        "\n",
        "Year_prices = stock_prices.resample('Y').ffill()\n",
        "Year_return = Year_prices.pct_change().dropna()\n",
        "Year_return\n",
        "monthly_return\n"
      ],
      "execution_count": null,
      "outputs": []
    },
    {
      "cell_type": "code",
      "metadata": {
        "id": "2JBfKERoVHp2"
      },
      "source": [
        "month_rf = rf.resample('M').ffill()\n",
        "month_rf = month_rf[month_rf.index >='2020-01-01']\n",
        "month_rf "
      ],
      "execution_count": null,
      "outputs": []
    },
    {
      "cell_type": "markdown",
      "metadata": {
        "id": "a799471_dije"
      },
      "source": [
        "Excess return "
      ]
    },
    {
      "cell_type": "code",
      "metadata": {
        "id": "ba7t0PtiqDjt"
      },
      "source": [
        "data2 = [('2020-01-01', 'Apple', '1-year'),\n",
        "         ('2020-01-01', 'Microsoft', '1-year'),\n",
        "         ('2020-01-01', 'Google', '1-year'),\n",
        "         ('2020-01-01', 'Tesla', '1-year'),\n",
        "         ('2020-01-01', 'Facebook', '1-year'),\n",
        "        ('2018-01-01', 'Apple', '3-years'),\n",
        "         ('2018-01-01', 'Microsoft', '3-years'),\n",
        "         ('2018-01-01', 'Google', '3-years'),\n",
        "         ('2018-01-01', 'Tesla', '3-years'),\n",
        "         ('2018-01-01', 'Facebook', '3-years'), \n",
        "         ('2016-01-01', 'Apple', '5-years'),\n",
        "         ('2016-01-01', 'Microsoft', '5-years'),\n",
        "         ('2016-01-01', 'Google', '5-years'),\n",
        "         ('2016-01-01', 'Tesla', '5-years'),\n",
        "         ('2016-01-01', 'Facebook', '5-years')]\n",
        "\n",
        "\n",
        "for date, nom, period in data2:\n",
        "  avg_exc = monthly_return[nom] - month_rf['RF']\n",
        "  avg_exc = avg_exc[avg_exc.index >= date]\n",
        "  avg_exc2 = avg_exc.mean()\n",
        "  std_exc = avg_exc.std()\n",
        "\n",
        "  print(\"\\nAnnualized sharpe ratio \" + period + \" \" + nom , (avg_exc2/std_exc)*np.sqrt(12), sep=\"\\n\")\n"
      ],
      "execution_count": null,
      "outputs": []
    },
    {
      "cell_type": "markdown",
      "metadata": {
        "id": "lcSqcAzRdZOu"
      },
      "source": [
        "### Part 4.2. Sharpe measure function [30pt]\n",
        "\n",
        "Define a new Python function `sharpe(ticker_1, ticker_2, ticker_3)` which:\n",
        "\n",
        "*  accepts 3 stock tickers as the only arguments;\n",
        "*  fetches historical daily prices for the 3 selected tickers over the last 3 years;\n",
        "*  fetches U.S. treasury bill (1-month T-Bill rates) rates over the corresponding 3 year period;\n",
        "* computes daily returns and excess returns for each stock;\n",
        "* computes daily average excess returns for each stock;\n",
        "* computes standard deviations of excess daily returns for each stock;\n",
        "* compute Sharpe ratios based on the daily average excess returns and standard deviations of excess retunrs;\n",
        "* annualises the resulting Sharpe ratio (by multiplying the daily Sharpe by $\\sqrt[2]{252}$);\n",
        "* returns the annualised Sharpe ratios for the 3 stocks."
      ]
    },
    {
      "cell_type": "code",
      "metadata": {
        "colab": {
          "base_uri": "https://localhost:8080/"
        },
        "id": "vvKKgBXnu92z",
        "outputId": "e955ba6c-b951-4eab-8bea-659c47e4e8b9"
      },
      "source": [
        "def sharpe(ticker='AAPL', *args):\n",
        "  \"\"\" Provide description of what this function does.\n",
        "\n",
        "  Args:\n",
        "    ticker_1 (str): ticker for stock 1\n",
        "    ticker_2 (str): ticker for stock 2\n",
        "    ticker_3 (str): ticker for stock 3 \n",
        "  \n",
        "  Returns:\n",
        "    This function returns annualised Sharpe \n",
        "    ratios for arg tickers using last 3 years\n",
        "    of data from Yahoo finance\n",
        "\n",
        "  Notes: provide any required notes/comments here\n",
        "  \"\"\"\n",
        "\n",
        "  if len(args) == 2:\n",
        "    tickers = [ticker, *args]\n",
        "    df = ffn.get(tickers, end='2020-12-31', start='2018-01-01')\n",
        "    ret = df.pct_change().dropna()\n",
        "    sharpe = ret.mean()/ret.std()\n",
        "    annual_sharpe = sharpe*np.sqrt(252)\n",
        "    return annual_sharpe\n",
        "  else:\n",
        "    return;\n",
        "\n",
        "sharpe('AAPL','MSFT', \"TSLA\")"
      ],
      "execution_count": 267,
      "outputs": [
        {
          "output_type": "execute_result",
          "data": {
            "text/plain": [
              "aapl    1.283044\n",
              "msft    1.189952\n",
              "tsla    1.514995\n",
              "dtype: float64"
            ]
          },
          "metadata": {
            "tags": []
          },
          "execution_count": 267
        }
      ]
    },
    {
      "cell_type": "code",
      "metadata": {
        "id": "b15Vxbcgu9qG"
      },
      "source": [
        ""
      ],
      "execution_count": null,
      "outputs": []
    },
    {
      "cell_type": "markdown",
      "metadata": {
        "id": "lKeLKTL0jL5W"
      },
      "source": [
        "sharpe ratio"
      ]
    },
    {
      "cell_type": "markdown",
      "metadata": {
        "id": "1Lf_bdu1j4XH"
      },
      "source": [
        "Annuailzed"
      ]
    },
    {
      "cell_type": "markdown",
      "metadata": {
        "id": "mdNww1KCdlvm"
      },
      "source": [
        "sharpe Ratio"
      ]
    },
    {
      "cell_type": "markdown",
      "metadata": {
        "id": "l_Bgj3YSdn2e"
      },
      "source": [
        "Annualising Sharp Ratio"
      ]
    },
    {
      "cell_type": "markdown",
      "metadata": {
        "id": "B4rj4z6-UjhP"
      },
      "source": [
        "compute average monthly excess returns\n",
        "\n",
        "compute standard deviation of monthly excess returns\n",
        "\n",
        "compute monthly Sharpe Ratios for the chosen stocks\n",
        "\n",
        "annualise the computed monthly Sharpe Ratios"
      ]
    },
    {
      "cell_type": "code",
      "metadata": {
        "id": "gIoWr1hh2dAM"
      },
      "source": [
        ""
      ],
      "execution_count": null,
      "outputs": []
    },
    {
      "cell_type": "markdown",
      "metadata": {
        "id": "kV5_G4FusIwo"
      },
      "source": [
        "Colab Link: https://colab.research.google.com/drive/1fuy5MXU4JuQmn84MRWFWRQnQRsJ9jbFA#scrollTo=kV5_G4FusIwo"
      ]
    }
  ]
}